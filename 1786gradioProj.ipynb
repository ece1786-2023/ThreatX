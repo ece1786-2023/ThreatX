{
  "nbformat": 4,
  "nbformat_minor": 0,
  "metadata": {
    "colab": {
      "provenance": []
    },
    "kernelspec": {
      "name": "python3",
      "display_name": "Python 3"
    },
    "language_info": {
      "name": "python"
    }
  },
  "cells": [
    {
      "cell_type": "code",
      "source": [
        "!pip install -U spacy"
      ],
      "metadata": {
        "id": "lNQQAYjC1CQ0"
      },
      "execution_count": null,
      "outputs": []
    },
    {
      "cell_type": "code",
      "source": [
        "!python -m spacy download en_core_web_sm"
      ],
      "metadata": {
        "id": "dL3OuyGs1DnG"
      },
      "execution_count": null,
      "outputs": []
    },
    {
      "cell_type": "code",
      "execution_count": null,
      "metadata": {
        "id": "3wkINevA08BP"
      },
      "outputs": [],
      "source": [
        "!pip install -q gradio\n",
        "import gradio as gr\n",
        "import os"
      ]
    },
    {
      "cell_type": "code",
      "source": [
        "from bs4 import BeautifulSoup"
      ],
      "metadata": {
        "id": "w8KVdjW8DAuy"
      },
      "execution_count": 4,
      "outputs": []
    },
    {
      "cell_type": "code",
      "source": [
        "from google.colab import drive\n",
        "drive.mount('/content/drive')"
      ],
      "metadata": {
        "colab": {
          "base_uri": "https://localhost:8080/"
        },
        "id": "bYYlIa9ZCnof",
        "outputId": "ad49c5a3-a16c-42ed-fd04-d25564e180cb"
      },
      "execution_count": 5,
      "outputs": [
        {
          "output_type": "stream",
          "name": "stdout",
          "text": [
            "Mounted at /content/drive\n"
          ]
        }
      ]
    },
    {
      "cell_type": "code",
      "source": [
        "import spacy"
      ],
      "metadata": {
        "id": "lidE8tILDheV"
      },
      "execution_count": 9,
      "outputs": []
    },
    {
      "cell_type": "code",
      "source": [
        "nlp_ner = spacy.load('/content/drive/MyDrive/output/model-best')"
      ],
      "metadata": {
        "id": "K-CNGPRTFIXZ"
      },
      "execution_count": 24,
      "outputs": []
    },
    {
      "cell_type": "code",
      "source": [
        "def runModel(file,type = 'Visualization'):\n",
        "  with open(file, 'r', encoding='utf-8') as file:\n",
        "      html_content = file.read()\n",
        "\n",
        "  soup = BeautifulSoup(html_content, 'lxml')\n",
        "  text_content = soup.get_text(separator='\\n', strip=True)\n",
        "\n",
        "  nlp_ner = spacy.load('/content/drive/MyDrive/output/model-best')\n",
        "\n",
        "  sample_doc = nlp_ner(text_content)\n",
        "\n",
        "  colors = {\"IP\": \"#F08080\", \"MALWARE_NAME\": \"#EEE8AA\", \"DOMAIN_NAME\":\"#8FBC8B\",\n",
        "            \"HASH_VAL\":\"#F9E79F\", \"ACTOR\": \"#F7DC6F\", \"HASH_VAL\":\"#F4D03F\",\n",
        "            \"REG_KEY\": \"#FAD7A0\", \"GEO_LOCATION\":\"#F8C471\", \"URL\": \"#F5B041\"}\n",
        "  options = {\"colors\": colors}\n",
        "\n",
        "  if type == 'Visualization':\n",
        "    output = spacy.displacy.render(sample_doc, style=\"ent\", options= options, page=True)\n",
        "\n",
        "  if type == 'IOCs':\n",
        "    output = [(ent.text, ent.label_) for ent in sample_doc.ents] #Only display IOCs without visualization\n",
        "\n",
        "  return output"
      ],
      "metadata": {
        "id": "wrGZI3fw1RKo"
      },
      "execution_count": 77,
      "outputs": []
    },
    {
      "cell_type": "code",
      "source": [
        "gr.Interface(fn=runModel,\n",
        "      inputs=[gr.File(),\n",
        "      gr.Radio(['Visualization', 'IOCs'])],\n",
        "      outputs=\"html\").launch(share=True)"
      ],
      "metadata": {
        "id": "psdmNw-i2dSE"
      },
      "execution_count": null,
      "outputs": []
    }
  ]
}