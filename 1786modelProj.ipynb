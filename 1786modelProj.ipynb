{
  "nbformat": 4,
  "nbformat_minor": 0,
  "metadata": {
    "colab": {
      "provenance": []
    },
    "kernelspec": {
      "name": "python3",
      "display_name": "Python 3"
    },
    "language_info": {
      "name": "python"
    }
  },
  "cells": [
    {
      "cell_type": "code",
      "source": [
        "!pip install -U spacy"
      ],
      "metadata": {
        "id": "P4iUDQjP5i4x"
      },
      "execution_count": null,
      "outputs": []
    },
    {
      "cell_type": "code",
      "source": [
        "!python -m spacy download en_core_web_sm"
      ],
      "metadata": {
        "id": "oqaTVCza5k50"
      },
      "execution_count": null,
      "outputs": []
    },
    {
      "cell_type": "code",
      "source": [
        "import json"
      ],
      "metadata": {
        "id": "CrR8Z_0ehAWC"
      },
      "execution_count": null,
      "outputs": []
    },
    {
      "cell_type": "code",
      "source": [
        "train_file = \"data.json\"\n",
        "with open(train_file, 'r') as json_file:\n",
        "    data = json.load(json_file)"
      ],
      "metadata": {
        "id": "6j0BdXy_hGQg"
      },
      "execution_count": null,
      "outputs": []
    },
    {
      "cell_type": "code",
      "source": [
        "def extract_entities(annotation):\n",
        "    start = annotation['start']\n",
        "    end = annotation['end']\n",
        "    label = annotation['label'].upper()\n",
        "    return start, end, label\n",
        "\n",
        "def process_example(example):\n",
        "    entities = [extract_entities(annotation) for annotation in example['annotations']]\n",
        "    return {\n",
        "        'text': example['text'],\n",
        "        'entities': entities\n",
        "    }\n",
        "\n",
        "training_data = [process_example(example) for example in data]"
      ],
      "metadata": {
        "id": "_YYFZ6Xch2xY"
      },
      "execution_count": null,
      "outputs": []
    },
    {
      "cell_type": "code",
      "source": [
        "def process_training_example(nlp, training_example):\n",
        "    text = training_example['text']\n",
        "    labels = training_example['entities']\n",
        "    doc = nlp.make_doc(text)\n",
        "    entities = []\n",
        "\n",
        "    for start, end, label in labels:\n",
        "        span = doc.char_span(start, end, label=label, alignment_mode=\"contract\")\n",
        "        if span is None:\n",
        "          span1 = doc.char_span(start, end+1, label=label, alignment_mode=\"contract\")\n",
        "          if span1 is None:\n",
        "            print(f\"Skipping invalid entity: {label} [{start}:{end}]\")\n",
        "          else:\n",
        "            entities.append(span1)\n",
        "        else:\n",
        "            entities.append(span)\n",
        "\n",
        "    filtered_entities = spacy.util.filter_spans(entities)\n",
        "    doc.ents = filtered_entities\n",
        "    return doc"
      ],
      "metadata": {
        "id": "G0kUPyAOjoPN"
      },
      "execution_count": null,
      "outputs": []
    },
    {
      "cell_type": "code",
      "source": [
        "import spacy\n",
        "from spacy.tokens import DocBin\n",
        "from tqdm import tqdm\n",
        "# Load a new spaCy model\n",
        "nlp = spacy.blank(\"en\")\n",
        "\n",
        "# Create a DocBin to store processed documents\n",
        "doc_bin = DocBin()\n",
        "\n",
        "# Process training data and add to DocBin\n",
        "for training_example in tqdm(training_data, desc=\"Processing training data\"):\n",
        "    processed_doc = process_training_example(nlp, training_example)\n",
        "    doc_bin.add(processed_doc)\n",
        "\n",
        "# Save the processed documents to disk\n",
        "doc_bin.to_disk(\"train.spacy\")"
      ],
      "metadata": {
        "colab": {
          "base_uri": "https://localhost:8080/"
        },
        "id": "B-AsRKKFjtmt",
        "outputId": "4ce92349-cb63-4f22-8dff-921c6d66ad49"
      },
      "execution_count": null,
      "outputs": [
        {
          "output_type": "stream",
          "name": "stderr",
          "text": [
            "Processing training data: 100%|██████████| 80/80 [00:00<00:00, 519.22it/s]"
          ]
        },
        {
          "output_type": "stream",
          "name": "stdout",
          "text": [
            "Skipping invalid entity: ACTOR [273:277]\n",
            "Skipping invalid entity: HASH_VALUES [197:261]\n",
            "Skipping invalid entity: DOMAIN_NAME [188:193]\n",
            "Skipping invalid entity: ACTOR [0:6]\n",
            "Skipping invalid entity: URL [376:399]\n",
            "Skipping invalid entity: URL [174:196]\n",
            "Skipping invalid entity: URL [23:43]\n",
            "Skipping invalid entity: DOMAIN_NAME [174:185]\n",
            "Skipping invalid entity: DOMAIN_NAME [23:32]\n",
            "Skipping invalid entity: IP_ADDRESSES [103:117]\n",
            "Skipping invalid entity: IP_ADDRESSES [103:117]\n"
          ]
        },
        {
          "output_type": "stream",
          "name": "stderr",
          "text": [
            "\n"
          ]
        }
      ]
    },
    {
      "cell_type": "code",
      "source": [
        "!python -m spacy init fill-config base_config.cfg base_config.cfg"
      ],
      "metadata": {
        "colab": {
          "base_uri": "https://localhost:8080/"
        },
        "id": "UVmWqkTXszxp",
        "outputId": "999061df-3860-4533-de8b-b3cc40430356"
      },
      "execution_count": null,
      "outputs": [
        {
          "output_type": "stream",
          "name": "stdout",
          "text": [
            "2023-11-19 20:03:26.863899: E tensorflow/compiler/xla/stream_executor/cuda/cuda_dnn.cc:9342] Unable to register cuDNN factory: Attempting to register factory for plugin cuDNN when one has already been registered\n",
            "2023-11-19 20:03:26.863982: E tensorflow/compiler/xla/stream_executor/cuda/cuda_fft.cc:609] Unable to register cuFFT factory: Attempting to register factory for plugin cuFFT when one has already been registered\n",
            "2023-11-19 20:03:26.864030: E tensorflow/compiler/xla/stream_executor/cuda/cuda_blas.cc:1518] Unable to register cuBLAS factory: Attempting to register factory for plugin cuBLAS when one has already been registered\n",
            "2023-11-19 20:03:28.180208: W tensorflow/compiler/tf2tensorrt/utils/py_utils.cc:38] TF-TRT Warning: Could not find TensorRT\n",
            "\u001b[38;5;3m⚠ Nothing to auto-fill: base config is already complete\u001b[0m\n",
            "\u001b[38;5;2m✔ Saved config\u001b[0m\n",
            "base_config.cfg\n",
            "You can now add your data and train your pipeline:\n",
            "python -m spacy train base_config.cfg --paths.train ./train.spacy --paths.dev ./dev.spacy\n"
          ]
        }
      ]
    },
    {
      "cell_type": "code",
      "source": [
        "!python -m spacy train base_config.cfg --output ./output --paths.train /content/train.spacy --paths.dev /content/train.spacy"
      ],
      "metadata": {
        "id": "M9GM27givAMf",
        "colab": {
          "base_uri": "https://localhost:8080/"
        },
        "outputId": "897e42ab-e77a-44fb-8734-48c07ed89755"
      },
      "execution_count": null,
      "outputs": [
        {
          "output_type": "stream",
          "name": "stdout",
          "text": [
            "2023-11-19 20:03:38.587957: E tensorflow/compiler/xla/stream_executor/cuda/cuda_dnn.cc:9342] Unable to register cuDNN factory: Attempting to register factory for plugin cuDNN when one has already been registered\n",
            "2023-11-19 20:03:38.588023: E tensorflow/compiler/xla/stream_executor/cuda/cuda_fft.cc:609] Unable to register cuFFT factory: Attempting to register factory for plugin cuFFT when one has already been registered\n",
            "2023-11-19 20:03:38.588071: E tensorflow/compiler/xla/stream_executor/cuda/cuda_blas.cc:1518] Unable to register cuBLAS factory: Attempting to register factory for plugin cuBLAS when one has already been registered\n",
            "2023-11-19 20:03:39.942678: W tensorflow/compiler/tf2tensorrt/utils/py_utils.cc:38] TF-TRT Warning: Could not find TensorRT\n",
            "\u001b[38;5;2m✔ Created output directory: output\u001b[0m\n",
            "\u001b[38;5;4mℹ Saving to output directory: output\u001b[0m\n",
            "\u001b[38;5;4mℹ Using CPU\u001b[0m\n",
            "\u001b[1m\n",
            "=========================== Initializing pipeline ===========================\u001b[0m\n",
            "\u001b[38;5;2m✔ Initialized pipeline\u001b[0m\n",
            "\u001b[1m\n",
            "============================= Training pipeline =============================\u001b[0m\n",
            "\u001b[38;5;4mℹ Pipeline: ['tok2vec', 'ner']\u001b[0m\n",
            "\u001b[38;5;4mℹ Initial learn rate: 0.001\u001b[0m\n",
            "E    #       LOSS TOK2VEC  LOSS NER  ENTS_F  ENTS_P  ENTS_R  SCORE \n",
            "---  ------  ------------  --------  ------  ------  ------  ------\n",
            "  0       0          0.00     42.05    0.00    0.00    0.00    0.00\n",
            "  5     200       1740.09   1926.89   41.63   47.92   36.80    0.42\n",
            " 11     400        683.78    655.88   87.30   86.61   88.00    0.87\n",
            " 18     600        236.99    313.83   93.93   95.08   92.80    0.94\n",
            " 27     800         78.71    168.79   96.06   94.57   97.60    0.96\n",
            " 37    1000         98.75    162.14   96.44   95.31   97.60    0.96\n",
            " 51    1200         77.22    181.04   96.80   96.80   96.80    0.97\n",
            " 68    1400         71.63    174.95   97.21   96.83   97.60    0.97\n",
            " 89    1600        276.85    242.02   97.19   97.58   96.80    0.97\n",
            "115    1800        134.91    227.29   97.12  100.00   94.40    0.97\n",
            "147    2000         58.53    247.44   97.14   99.17   95.20    0.97\n",
            "186    2200         90.35    301.01   97.21   96.83   97.60    0.97\n",
            "234    2400        103.45    352.14   97.14   99.17   95.20    0.97\n",
            "284    2600         54.55    329.09   97.21   96.83   97.60    0.97\n",
            "334    2800         78.83    327.49   97.21   96.83   97.60    0.97\n",
            "384    3000         87.45    344.25   97.14   99.17   95.20    0.97\n",
            "\u001b[38;5;2m✔ Saved pipeline to output directory\u001b[0m\n",
            "output/model-last\n"
          ]
        }
      ]
    },
    {
      "cell_type": "markdown",
      "source": [
        "测试"
      ],
      "metadata": {
        "id": "_i8pX0zRVzHC"
      }
    },
    {
      "cell_type": "code",
      "source": [
        "test = 'Synchronization can be enabled during an initial start and configuration of Password Manager or later. A Kaspersky Account will allow you accessing your online storage from different computers. If you have already worked with the component but haven’t enabled the sync yet, then enable it by clicking the Sync is disabled link and by clicking the Enable sync button in the pop-up window. The configuration wizard will either offer you to create a Kaspersky Account or to enter your credentials for an existing account. If you do not have a Kaspersky Account, create one following the recommendations of the wizard. A Kaspersky Account will allow you accessing your online storage from different computers. Once an account is activated, the Password Manager database will automatically synchronize with an online storage. Now when you have configured synchronization of Password Manager on all computers you can manage the passwords database and visit the sites for which you have added accounts from any computer without bothering to remember your passwords and their safe input. Any changes in your passwords database will appear on all synchronized computers automatically.'"
      ],
      "metadata": {
        "id": "3N5RQtPeC6sf"
      },
      "execution_count": null,
      "outputs": []
    },
    {
      "cell_type": "code",
      "source": [
        "test[72:151]"
      ],
      "metadata": {
        "colab": {
          "base_uri": "https://localhost:8080/",
          "height": 35
        },
        "id": "NbKCSWYaIL4u",
        "outputId": "06c8fd8f-fe37-455c-fd46-6b1e2733c2fb"
      },
      "execution_count": null,
      "outputs": [
        {
          "output_type": "execute_result",
          "data": {
            "text/plain": [
              "'[HKEY_LOCAL_MACHINE]\\nWkbpsevaXImgvkwkbpXSmj kswXGqvvajpRavwmkjXVqj=$SYS$DRV.EXE'"
            ],
            "application/vnd.google.colaboratory.intrinsic+json": {
              "type": "string"
            }
          },
          "metadata": {},
          "execution_count": 469
        }
      ]
    },
    {
      "cell_type": "code",
      "source": [
        "len('www.darpa.mil/WorkArea/DownloadAsset.aspx?id=2147484449')"
      ],
      "metadata": {
        "colab": {
          "base_uri": "https://localhost:8080/"
        },
        "id": "yty3TymAYQoq",
        "outputId": "cbd0fdf6-a0a0-4935-c801-5c640da31098"
      },
      "execution_count": null,
      "outputs": [
        {
          "output_type": "execute_result",
          "data": {
            "text/plain": [
              "55"
            ]
          },
          "metadata": {},
          "execution_count": 300
        }
      ]
    },
    {
      "cell_type": "code",
      "source": [
        "import re\n",
        "words_list= ['Kaspersky']\n",
        "\n",
        "for word in words_list:\n",
        "    for m in re.finditer(word,test):\n",
        "        print (m.group(),m.start(), m.end())\n",
        "        print(test[m.start():m.end()])"
      ],
      "metadata": {
        "colab": {
          "base_uri": "https://localhost:8080/"
        },
        "id": "wqnLVl8fIhFa",
        "outputId": "9c602841-4e52-445b-ee3b-d6d967748c88"
      },
      "execution_count": null,
      "outputs": [
        {
          "output_type": "stream",
          "name": "stdout",
          "text": [
            "Kaspersky 105 114\n",
            "Kaspersky\n",
            "Kaspersky 447 456\n",
            "Kaspersky\n",
            "Kaspersky 540 549\n",
            "Kaspersky\n",
            "Kaspersky 617 626\n",
            "Kaspersky\n"
          ]
        }
      ]
    },
    {
      "cell_type": "code",
      "source": [
        "b = 'On Sunday, Dec. 13, FireEye released information related to a breach and data exfiltration originating from an unknown actor FireEye is calling UNC2452. Unit 42 tracks this and related activity as the <actor>SolarStorm</actor>. According to FireEye, SolarStorm has compromised organizations across the globe via a supply chain attack that consists of a trojanized update file for the SolarWinds Orion Platform.'"
      ],
      "metadata": {
        "id": "dP5ctJH7DyJm"
      },
      "execution_count": null,
      "outputs": []
    },
    {
      "cell_type": "code",
      "source": [
        "pattern = re.compile(r'<[^>]+>',re.S)\n",
        "result = pattern.sub('', b)\n",
        "print(result)"
      ],
      "metadata": {
        "colab": {
          "base_uri": "https://localhost:8080/"
        },
        "id": "Q1f9CzDqEUBj",
        "outputId": "f669cc16-f0b8-4afa-abac-ea0e06501d2d"
      },
      "execution_count": null,
      "outputs": [
        {
          "output_type": "stream",
          "name": "stdout",
          "text": [
            "On Sunday, Dec. 13, FireEye released information related to a breach and data exfiltration originating from an unknown actor FireEye is calling UNC2452. Unit 42 tracks this and related activity as the SolarStorm. According to FireEye, SolarStorm has compromised organizations across the globe via a supply chain attack that consists of a trojanized update file for the SolarWinds Orion Platform.\n"
          ]
        }
      ]
    },
    {
      "cell_type": "markdown",
      "source": [
        "数据处理"
      ],
      "metadata": {
        "id": "dGQkJj1VVutI"
      }
    },
    {
      "cell_type": "code",
      "source": [
        "label = ['MALWARE_NAME','MALWARE_NAME','MALWARE_NAME','MALWARE_NAME','GEO_LOCATION','GEO_LOCATION']"
      ],
      "metadata": {
        "id": "lzqtRCfQDBv1"
      },
      "execution_count": null,
      "outputs": []
    },
    {
      "cell_type": "code",
      "source": [
        "rawText = ['You already know how to easily create and use the passwords database using Password Manager in <malware> Kaspersky PURE 3.0 <malware> for quick and safe on-site authorization.'\n",
        ",'But keeping pace with time we all use several computers (both stand-alone PCs and notebooks) in several places, e.g. at home and at work. And the reasonable question is how to make the created passwords database available and augmented on all computers you work on? To bridge the gap a new feature was introduced in <malware> Kaspersky PURE 3.0 <malware> that allows synchronizing databases of Password Manager.'\n",
        ",'Thus, with <malware> Kaspersky PURE 3.0 <malware> installed and the Internet available, you can use your passwords database on all computers of yours in any part of the world.'\n",
        ",'Synchronization can be enabled during an initial start and configuration of Password Manager or later. A Kaspersky Account will allow you accessing your online storage from different computers. If you have already worked with the component but haven’t enabled the sync yet, then enable it by clicking the Sync is disabled link and by clicking the Enable sync button in the pop-up window. The configuration wizard will either offer you to create a Kaspersky Account or to enter your credentials for an existing account. If you do not have a Kaspersky Account, create one following the recommendations of the wizard. A Kaspersky Account will allow you accessing your online storage from different computers. Once an account is activated, the Password Manager database will automatically synchronize with an online storage. Now when you have configured synchronization of Password Manager on all computers you can manage the passwords database and visit the sites for which you have added accounts from any computer without bothering to remember your passwords and their safe input. Any changes in your passwords database will appear on all synchronized computers automatically.'\n",
        ",'But keeping pace with time we all use several computers (both stand-alone PCs and notebooks) in several places, e.g. at <geo_loc> home <geo_loc> and at <geo_loc> work <geo_loc>. And the reasonable question is how to make the created passwords database available and augmented on all computers you work on?'\n",
        ",'Thus, with Kaspersky PURE 3.0 installed and the Internet available, you can use your passwords database on all computers of yours in any <geo_loc> part of the world <geo_loc>.'\n",
        "\n",
        "\n",
        "           ]"
      ],
      "metadata": {
        "id": "p57nqePSHRSl"
      },
      "execution_count": null,
      "outputs": []
    },
    {
      "cell_type": "code",
      "source": [
        "entities = ['Kaspersky PURE 3.0','Kaspersky PURE 3.0','Kaspersky PURE 3.0','Kaspersky',['home', 'work'],'part of the world']"
      ],
      "metadata": {
        "id": "YpmsBJbrHzf2"
      },
      "execution_count": null,
      "outputs": []
    },
    {
      "cell_type": "code",
      "source": [
        "resultText = []\n",
        "for f in range(len(rawText)):\n",
        "  pattern = re.compile(r'<[^>]+>',re.S)\n",
        "  result = pattern.sub('', rawText[f])\n",
        "  resultText.append(result)\n",
        "print(resultText)"
      ],
      "metadata": {
        "colab": {
          "base_uri": "https://localhost:8080/"
        },
        "id": "VCtbtrtHMCjv",
        "outputId": "9f5533ec-66b0-4bd4-f311-a1134eb2c9bc"
      },
      "execution_count": null,
      "outputs": [
        {
          "output_type": "stream",
          "name": "stdout",
          "text": [
            "['You already know how to easily create and use the passwords database using Password Manager in  Kaspersky PURE 3.0  for quick and safe on-site authorization.', 'But keeping pace with time we all use several computers (both stand-alone PCs and notebooks) in several places, e.g. at home and at work. And the reasonable question is how to make the created passwords database available and augmented on all computers you work on? To bridge the gap a new feature was introduced in  Kaspersky PURE 3.0  that allows synchronizing databases of Password Manager.', 'Thus, with  Kaspersky PURE 3.0  installed and the Internet available, you can use your passwords database on all computers of yours in any part of the world.', 'Synchronization can be enabled during an initial start and configuration of Password Manager or later. A Kaspersky Account will allow you accessing your online storage from different computers. If you have already worked with the component but haven’t enabled the sync yet, then enable it by clicking the Sync is disabled link and by clicking the Enable sync button in the pop-up window. The configuration wizard will either offer you to create a Kaspersky Account or to enter your credentials for an existing account. If you do not have a Kaspersky Account, create one following the recommendations of the wizard. A Kaspersky Account will allow you accessing your online storage from different computers. Once an account is activated, the Password Manager database will automatically synchronize with an online storage. Now when you have configured synchronization of Password Manager on all computers you can manage the passwords database and visit the sites for which you have added accounts from any computer without bothering to remember your passwords and their safe input. Any changes in your passwords database will appear on all synchronized computers automatically.', 'But keeping pace with time we all use several computers (both stand-alone PCs and notebooks) in several places, e.g. at  home  and at  work . And the reasonable question is how to make the created passwords database available and augmented on all computers you work on?', 'Thus, with Kaspersky PURE 3.0 installed and the Internet available, you can use your passwords database on all computers of yours in any  part of the world .']\n"
          ]
        }
      ]
    },
    {
      "cell_type": "code",
      "source": [
        "procesData = []\n",
        "for i in range(len(label)):\n",
        "  dic = {\"text\": resultText[i],\"annotations\":[]}\n",
        "  if type(entities[i]) == list:\n",
        "    words_list = entities[i]\n",
        "    for word in words_list:\n",
        "      for m in re.finditer(word,resultText[i]):\n",
        "        dic['annotations'].append({\"start\": m.start(), \"end\": m.end(), \"label\": label[i], \"entity\": word})\n",
        "  else:\n",
        "    words = entities[i]\n",
        "    for m in re.finditer(words,resultText[i]):\n",
        "      dic['annotations'].append({\"start\": m.start(), \"end\": m.end(), \"label\": label[i], \"entity\": words})\n",
        "  procesData.append(dic)"
      ],
      "metadata": {
        "id": "h-mFM7TIIiAh"
      },
      "execution_count": null,
      "outputs": []
    },
    {
      "cell_type": "code",
      "source": [
        "json.dumps(procesData)"
      ],
      "metadata": {
        "colab": {
          "base_uri": "https://localhost:8080/",
          "height": 331
        },
        "id": "unOXh4A4NTq4",
        "outputId": "0c0ceb6e-c8bc-4f8e-8870-c5a535467879"
      },
      "execution_count": null,
      "outputs": [
        {
          "output_type": "execute_result",
          "data": {
            "text/plain": [
              "'[{\"text\": \"You already know how to easily create and use the passwords database using Password Manager in  Kaspersky PURE 3.0  for quick and safe on-site authorization.\", \"annotations\": [{\"start\": 96, \"end\": 114, \"label\": \"MALWARE_NAME\", \"entity\": \"Kaspersky PURE 3.0\"}]}, {\"text\": \"But keeping pace with time we all use several computers (both stand-alone PCs and notebooks) in several places, e.g. at home and at work. And the reasonable question is how to make the created passwords database available and augmented on all computers you work on? To bridge the gap a new feature was introduced in  Kaspersky PURE 3.0  that allows synchronizing databases of Password Manager.\", \"annotations\": [{\"start\": 317, \"end\": 335, \"label\": \"MALWARE_NAME\", \"entity\": \"Kaspersky PURE 3.0\"}]}, {\"text\": \"Thus, with  Kaspersky PURE 3.0  installed and the Internet available, you can use your passwords database on all computers of yours in any part of the world.\", \"annotations\": [{\"start\": 12, \"end\": 30, \"label\": \"MALWARE_NAME\", \"entity\": \"Kaspersky PURE 3.0\"}]}, {\"text\": \"Synchronization can be enabled during an initial start and configuration of Password Manager or later. A Kaspersky Account will allow you accessing your online storage from different computers. If you have already worked with the component but haven\\\\u2019t enabled the sync yet, then enable it by clicking the Sync is disabled link and by clicking the Enable sync button in the pop-up window. The configuration wizard will either offer you to create a Kaspersky Account or to enter your credentials for an existing account. If you do not have a Kaspersky Account, create one following the recommendations of the wizard. A Kaspersky Account will allow you accessing your online storage from different computers. Once an account is activated, the Password Manager database will automatically synchronize with an online storage. Now when you have configured synchronization of Password Manager on all computers you can manage the passwords database and visit the sites for which you have added accounts from any computer without bothering to remember your passwords and their safe input. Any changes in your passwords database will appear on all synchronized computers automatically.\", \"annotations\": [{\"start\": 105, \"end\": 114, \"label\": \"MALWARE_NAME\", \"entity\": \"Kaspersky\"}, {\"start\": 447, \"end\": 456, \"label\": \"MALWARE_NAME\", \"entity\": \"Kaspersky\"}, {\"start\": 540, \"end\": 549, \"label\": \"MALWARE_NAME\", \"entity\": \"Kaspersky\"}, {\"start\": 617, \"end\": 626, \"label\": \"MALWARE_NAME\", \"entity\": \"Kaspersky\"}]}, {\"text\": \"But keeping pace with time we all use several computers (both stand-alone PCs and notebooks) in several places, e.g. at  home  and at  work . And the reasonable question is how to make the created passwords database available and augmented on all computers you work on?\", \"annotations\": [{\"start\": 121, \"end\": 125, \"label\": \"GEO_LOCATION\", \"entity\": \"home\"}, {\"start\": 135, \"end\": 139, \"label\": \"GEO_LOCATION\", \"entity\": \"work\"}, {\"start\": 261, \"end\": 265, \"label\": \"GEO_LOCATION\", \"entity\": \"work\"}]}, {\"text\": \"Thus, with Kaspersky PURE 3.0 installed and the Internet available, you can use your passwords database on all computers of yours in any  part of the world .\", \"annotations\": [{\"start\": 138, \"end\": 155, \"label\": \"GEO_LOCATION\", \"entity\": \"part of the world\"}]}]'"
            ],
            "application/vnd.google.colaboratory.intrinsic+json": {
              "type": "string"
            }
          },
          "metadata": {},
          "execution_count": 490
        }
      ]
    }
  ]
}