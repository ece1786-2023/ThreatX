{
  "nbformat": 4,
  "nbformat_minor": 0,
  "metadata": {
    "colab": {
      "provenance": []
    },
    "kernelspec": {
      "name": "python3",
      "display_name": "Python 3"
    },
    "language_info": {
      "name": "python"
    }
  },
  "cells": [
    {
      "cell_type": "markdown",
      "source": [
        "copy the data from raw text file"
      ],
      "metadata": {
        "id": "2aEnS9CwkCaq"
      }
    },
    {
      "cell_type": "code",
      "execution_count": null,
      "metadata": {
        "id": "1hyjbuljjx2p"
      },
      "outputs": [],
      "source": [
        "label = ['ACTOR','ACTOR','ACTOR','GEO_LOCATION','EMAIL_ADDRESSES','DOMAIN_NAME','URL']"
      ]
    },
    {
      "cell_type": "code",
      "source": [
        "rawText = ['Trustwave held a roundtable in South Africa on May 23, 2013, to discuss the war on cybercrime and the role of compliance in reducing credit card fraud. The panel was hosted by <actor> Andrew Kirkland, country manager for Trustwave in South Africa </actor>, and Michael Aminzade, Director of Delivery EMEA at Trustwave, and included notaries from VISA, South African Centre for Information Security, SABRIC and the University of Pretoria.'\n",
        ",'Developers take shortcuts and this is where cybercrime focuses its efforts - on those weaknesses in code where rushed solutions have flaws they can exploit, says <actor> Trustwaves Kirkland </actor>. The infiltrators know that deadlines, financial pressures and urgency can push developers to overlook aspects of their code. We need to stop taking shortcuts and start treating the data we have as valuable.'\n",
        ",'Its not if you get hacked, but when, concludes <actor> Aminzade </actor>, Businesses need to ask what message they can give to their customers to show them that they are protected, that they have put measures in place to protect data and that they are able to respond to an issue quickly and correctly.'\n",
        ",'Trustwave held a roundtable in <geo_loc> South Africa </geo_loc> on May 23, 2013, to discuss the war on cybercrime and the role of compliance in reducing credit card fraud.'\n",
        ",'share <email> email </email> Trustwave held a roundtable in South Africa on May 23, 2013, to discuss the war on cybercrime and the role of compliance in reducing credit card fraud.'\n",
        ",'Related Media Coverage: <domain_name> Tech Central </domain_name> - Joint action needed on cyber crime <domain_name> News24 </domain_name> - Education key to SA Cyber threat <domain_name> News24 </domain_name> - Take cybercrime seriously, urge experts <domain_name> IT Web </domain_name> - SA needs offensive cyber warriors'\n",
        ",'Copyright © <url> www.trustwave.com </url> Holdings, Inc. All rights reserved.'\n",
        "           ]"
      ],
      "metadata": {
        "id": "5HQ8AKVEj5Fo"
      },
      "execution_count": null,
      "outputs": []
    },
    {
      "cell_type": "code",
      "source": [
        "entities = ['Trustwave','Trustwave','Aminzade','South Africa','email',['News24', 'Tech Central', 'IT Web'],'www.trustwave.com']"
      ],
      "metadata": {
        "id": "hcsdxOFkj6Ph"
      },
      "execution_count": null,
      "outputs": []
    },
    {
      "cell_type": "markdown",
      "source": [
        "remove tags"
      ],
      "metadata": {
        "id": "iDfSsjMGkIl8"
      }
    },
    {
      "cell_type": "code",
      "source": [
        "resultText = []\n",
        "for f in range(len(rawText)):\n",
        "  pattern = re.compile(r'<[^>]+>',re.S)\n",
        "  result = pattern.sub('', rawText[f])\n",
        "  resultText.append(result)"
      ],
      "metadata": {
        "id": "qxyjp0YCj7fP"
      },
      "execution_count": null,
      "outputs": []
    },
    {
      "cell_type": "markdown",
      "source": [
        "generate format datas"
      ],
      "metadata": {
        "id": "HKJy2JJbkL3q"
      }
    },
    {
      "cell_type": "code",
      "source": [
        "procesData = []\n",
        "for i in range(len(label)):\n",
        "  dic = {\"text\": resultText[i],\"annotations\":[]}\n",
        "  if type(entities[i]) == list:\n",
        "    words_list = entities[i]\n",
        "    for word in words_list:\n",
        "      for m in re.finditer(word,resultText[i]):\n",
        "        dic['annotations'].append({\"start\": m.start(), \"end\": m.end(), \"label\": label[i], \"entity\": word})\n",
        "  else:\n",
        "    words = entities[i]\n",
        "    for m in re.finditer(words,resultText[i]):\n",
        "      dic['annotations'].append({\"start\": m.start(), \"end\": m.end(), \"label\": label[i], \"entity\": words})\n",
        "  procesData.append(dic)"
      ],
      "metadata": {
        "id": "nehd9E8nj8mN"
      },
      "execution_count": null,
      "outputs": []
    },
    {
      "cell_type": "markdown",
      "source": [
        "output as json format"
      ],
      "metadata": {
        "id": "V77yev4mkOYt"
      }
    },
    {
      "cell_type": "code",
      "source": [
        "json.dumps(procesData)"
      ],
      "metadata": {
        "id": "s4LOe4mTj_rq"
      },
      "execution_count": null,
      "outputs": []
    }
  ]
}